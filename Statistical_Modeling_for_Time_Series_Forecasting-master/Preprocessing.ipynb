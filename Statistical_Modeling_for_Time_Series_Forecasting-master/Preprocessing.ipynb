{
 "cells": [
  {
   "cell_type": "markdown",
   "metadata": {
    "toc": true
   },
   "source": [
    "<h1>Table of Contents<span class=\"tocSkip\"></span></h1>\n",
    "<div class=\"toc\"><ul class=\"toc-item\"><li><span><a href=\"#Importing-Required-Packages\" data-toc-modified-id=\"Importing-Required-Packages-1\"><span class=\"toc-item-num\">1&nbsp;&nbsp;</span>Importing Required Packages</a></span></li><li><span><a href=\"#Importing-Dataset\" data-toc-modified-id=\"Importing-Dataset-2\"><span class=\"toc-item-num\">2&nbsp;&nbsp;</span>Importing Dataset</a></span></li><li><span><a href=\"#Preprocessing-Data\" data-toc-modified-id=\"Preprocessing-Data-3\"><span class=\"toc-item-num\">3&nbsp;&nbsp;</span>Preprocessing Data</a></span><ul class=\"toc-item\"><li><span><a href=\"#Handling-Missing-Values\" data-toc-modified-id=\"Handling-Missing-Values-3.1\"><span class=\"toc-item-num\">3.1&nbsp;&nbsp;</span>Handling Missing Values</a></span></li><li><span><a href=\"#Calculating-Price-Returns\" data-toc-modified-id=\"Calculating-Price-Returns-3.2\"><span class=\"toc-item-num\">3.2&nbsp;&nbsp;</span>Calculating Price Returns</a></span></li><li><span><a href=\"#Volatility-(Magnitude-of-Returns)\" data-toc-modified-id=\"Volatility-(Magnitude-of-Returns)-3.3\"><span class=\"toc-item-num\">3.3&nbsp;&nbsp;</span>Volatility (Magnitude of Returns)</a></span></li><li><span><a href=\"#Exporting-the-Dataframe\" data-toc-modified-id=\"Exporting-the-Dataframe-3.4\"><span class=\"toc-item-num\">3.4&nbsp;&nbsp;</span>Exporting the Dataframe</a></span></li><li><span><a href=\"#Importing-the-Dataframe\" data-toc-modified-id=\"Importing-the-Dataframe-3.5\"><span class=\"toc-item-num\">3.5&nbsp;&nbsp;</span>Importing the Dataframe</a></span></li></ul></li><li><span><a href=\"#Preliminary-Data-Visulaizations\" data-toc-modified-id=\"Preliminary-Data-Visulaizations-4\"><span class=\"toc-item-num\">4&nbsp;&nbsp;</span>Preliminary Data Visulaizations</a></span></li></ul></div>"
   ]
  },
  {
   "cell_type": "markdown",
   "metadata": {},
   "source": [
    "# Importing Required Packages"
   ]
  },
  {
   "cell_type": "code",
   "execution_count": 1,
   "metadata": {
    "ExecuteTime": {
     "end_time": "2020-10-04T12:07:55.176107Z",
     "start_time": "2020-10-04T12:07:42.188556Z"
    }
   },
   "outputs": [],
   "source": [
    "import pandas as pd\n",
    "import numpy as np\n",
    "import matplotlib.pyplot as plt\n",
    "import seaborn as sns\n",
    "\n",
    "import warnings\n",
    "\n",
    "from sklearn import preprocessing\n",
    "\n",
    "sns.set()\n",
    "warnings.filterwarnings(\"ignore\")"
   ]
  },
  {
   "cell_type": "markdown",
   "metadata": {},
   "source": [
    "Install **yfinance** if needed by un-commenting out this cell."
   ]
  },
  {
   "cell_type": "code",
   "execution_count": 2,
   "metadata": {
    "ExecuteTime": {
     "end_time": "2020-10-04T12:07:55.191754Z",
     "start_time": "2020-10-04T12:07:55.180098Z"
    }
   },
   "outputs": [],
   "source": [
    "# !pip install yfinance"
   ]
  },
  {
   "cell_type": "code",
   "execution_count": 3,
   "metadata": {
    "ExecuteTime": {
     "end_time": "2020-10-04T12:07:58.578509Z",
     "start_time": "2020-10-04T12:07:55.194747Z"
    }
   },
   "outputs": [],
   "source": [
    "import yfinance"
   ]
  },
  {
   "cell_type": "markdown",
   "metadata": {},
   "source": [
    "# Importing Dataset"
   ]
  },
  {
   "cell_type": "markdown",
   "metadata": {},
   "source": [
    "The dataset is taken from **yfinance**.\n",
    "\n",
    "It contains daily data from - **1994-01-06** to **2019-08-30** for the market index - **S&P 500**"
   ]
  },
  {
   "cell_type": "code",
   "execution_count": 4,
   "metadata": {
    "ExecuteTime": {
     "end_time": "2020-10-04T12:07:59.692254Z",
     "start_time": "2020-10-04T12:07:58.582500Z"
    }
   },
   "outputs": [
    {
     "name": "stdout",
     "output_type": "stream",
     "text": [
      "[*********************100%***********************]  1 of 1 completed\n"
     ]
    }
   ],
   "source": [
    "raw_data = yfinance.download (tickers = \"^GSPC\", start = \"1994-01-07\", \n",
    "                              end = \"2019-09-01\", interval = \"1d\")"
   ]
  },
  {
   "cell_type": "markdown",
   "metadata": {},
   "source": [
    "First few rows of the dataset are as follows."
   ]
  },
  {
   "cell_type": "code",
   "execution_count": 5,
   "metadata": {
    "ExecuteTime": {
     "end_time": "2020-10-04T12:07:59.724207Z",
     "start_time": "2020-10-04T12:07:59.698241Z"
    }
   },
   "outputs": [
    {
     "data": {
      "text/html": [
       "<div>\n",
       "<style scoped>\n",
       "    .dataframe tbody tr th:only-of-type {\n",
       "        vertical-align: middle;\n",
       "    }\n",
       "\n",
       "    .dataframe tbody tr th {\n",
       "        vertical-align: top;\n",
       "    }\n",
       "\n",
       "    .dataframe thead th {\n",
       "        text-align: right;\n",
       "    }\n",
       "</style>\n",
       "<table border=\"1\" class=\"dataframe\">\n",
       "  <thead>\n",
       "    <tr style=\"text-align: right;\">\n",
       "      <th></th>\n",
       "      <th>Open</th>\n",
       "      <th>High</th>\n",
       "      <th>Low</th>\n",
       "      <th>Close</th>\n",
       "      <th>Adj Close</th>\n",
       "      <th>Volume</th>\n",
       "    </tr>\n",
       "    <tr>\n",
       "      <th>Date</th>\n",
       "      <th></th>\n",
       "      <th></th>\n",
       "      <th></th>\n",
       "      <th></th>\n",
       "      <th></th>\n",
       "      <th></th>\n",
       "    </tr>\n",
       "  </thead>\n",
       "  <tbody>\n",
       "    <tr>\n",
       "      <th>1994-01-06</th>\n",
       "      <td>467.549988</td>\n",
       "      <td>469.000000</td>\n",
       "      <td>467.019989</td>\n",
       "      <td>467.119995</td>\n",
       "      <td>467.119995</td>\n",
       "      <td>365960000</td>\n",
       "    </tr>\n",
       "    <tr>\n",
       "      <th>1994-01-07</th>\n",
       "      <td>467.089996</td>\n",
       "      <td>470.260010</td>\n",
       "      <td>467.029999</td>\n",
       "      <td>469.899994</td>\n",
       "      <td>469.899994</td>\n",
       "      <td>324920000</td>\n",
       "    </tr>\n",
       "    <tr>\n",
       "      <th>1994-01-10</th>\n",
       "      <td>469.899994</td>\n",
       "      <td>475.269989</td>\n",
       "      <td>469.549988</td>\n",
       "      <td>475.269989</td>\n",
       "      <td>475.269989</td>\n",
       "      <td>319490000</td>\n",
       "    </tr>\n",
       "    <tr>\n",
       "      <th>1994-01-11</th>\n",
       "      <td>475.269989</td>\n",
       "      <td>475.279999</td>\n",
       "      <td>473.269989</td>\n",
       "      <td>474.130005</td>\n",
       "      <td>474.130005</td>\n",
       "      <td>305490000</td>\n",
       "    </tr>\n",
       "    <tr>\n",
       "      <th>1994-01-12</th>\n",
       "      <td>474.130005</td>\n",
       "      <td>475.059998</td>\n",
       "      <td>472.140015</td>\n",
       "      <td>474.170013</td>\n",
       "      <td>474.170013</td>\n",
       "      <td>310690000</td>\n",
       "    </tr>\n",
       "  </tbody>\n",
       "</table>\n",
       "</div>"
      ],
      "text/plain": [
       "                  Open        High         Low       Close   Adj Close  \\\n",
       "Date                                                                     \n",
       "1994-01-06  467.549988  469.000000  467.019989  467.119995  467.119995   \n",
       "1994-01-07  467.089996  470.260010  467.029999  469.899994  469.899994   \n",
       "1994-01-10  469.899994  475.269989  469.549988  475.269989  475.269989   \n",
       "1994-01-11  475.269989  475.279999  473.269989  474.130005  474.130005   \n",
       "1994-01-12  474.130005  475.059998  472.140015  474.170013  474.170013   \n",
       "\n",
       "               Volume  \n",
       "Date                   \n",
       "1994-01-06  365960000  \n",
       "1994-01-07  324920000  \n",
       "1994-01-10  319490000  \n",
       "1994-01-11  305490000  \n",
       "1994-01-12  310690000  "
      ]
     },
     "execution_count": 5,
     "metadata": {},
     "output_type": "execute_result"
    }
   ],
   "source": [
    "raw_data.head()"
   ]
  },
  {
   "cell_type": "markdown",
   "metadata": {},
   "source": [
    "Last few rows of the dataset are as follows."
   ]
  },
  {
   "cell_type": "code",
   "execution_count": 6,
   "metadata": {
    "ExecuteTime": {
     "end_time": "2020-10-04T12:07:59.816922Z",
     "start_time": "2020-10-04T12:07:59.729171Z"
    }
   },
   "outputs": [
    {
     "data": {
      "text/html": [
       "<div>\n",
       "<style scoped>\n",
       "    .dataframe tbody tr th:only-of-type {\n",
       "        vertical-align: middle;\n",
       "    }\n",
       "\n",
       "    .dataframe tbody tr th {\n",
       "        vertical-align: top;\n",
       "    }\n",
       "\n",
       "    .dataframe thead th {\n",
       "        text-align: right;\n",
       "    }\n",
       "</style>\n",
       "<table border=\"1\" class=\"dataframe\">\n",
       "  <thead>\n",
       "    <tr style=\"text-align: right;\">\n",
       "      <th></th>\n",
       "      <th>Open</th>\n",
       "      <th>High</th>\n",
       "      <th>Low</th>\n",
       "      <th>Close</th>\n",
       "      <th>Adj Close</th>\n",
       "      <th>Volume</th>\n",
       "    </tr>\n",
       "    <tr>\n",
       "      <th>Date</th>\n",
       "      <th></th>\n",
       "      <th></th>\n",
       "      <th></th>\n",
       "      <th></th>\n",
       "      <th></th>\n",
       "      <th></th>\n",
       "    </tr>\n",
       "  </thead>\n",
       "  <tbody>\n",
       "    <tr>\n",
       "      <th>2019-08-26</th>\n",
       "      <td>2866.699951</td>\n",
       "      <td>2879.270020</td>\n",
       "      <td>2856.000000</td>\n",
       "      <td>2878.379883</td>\n",
       "      <td>2878.379883</td>\n",
       "      <td>2857600000</td>\n",
       "    </tr>\n",
       "    <tr>\n",
       "      <th>2019-08-27</th>\n",
       "      <td>2893.139893</td>\n",
       "      <td>2898.790039</td>\n",
       "      <td>2860.590088</td>\n",
       "      <td>2869.159912</td>\n",
       "      <td>2869.159912</td>\n",
       "      <td>3533630000</td>\n",
       "    </tr>\n",
       "    <tr>\n",
       "      <th>2019-08-28</th>\n",
       "      <td>2861.280029</td>\n",
       "      <td>2890.030029</td>\n",
       "      <td>2853.050049</td>\n",
       "      <td>2887.939941</td>\n",
       "      <td>2887.939941</td>\n",
       "      <td>3097420000</td>\n",
       "    </tr>\n",
       "    <tr>\n",
       "      <th>2019-08-29</th>\n",
       "      <td>2910.370117</td>\n",
       "      <td>2930.500000</td>\n",
       "      <td>2905.669922</td>\n",
       "      <td>2924.580078</td>\n",
       "      <td>2924.580078</td>\n",
       "      <td>3176190000</td>\n",
       "    </tr>\n",
       "    <tr>\n",
       "      <th>2019-08-30</th>\n",
       "      <td>2937.090088</td>\n",
       "      <td>2940.429932</td>\n",
       "      <td>2913.320068</td>\n",
       "      <td>2926.459961</td>\n",
       "      <td>2926.459961</td>\n",
       "      <td>3008450000</td>\n",
       "    </tr>\n",
       "  </tbody>\n",
       "</table>\n",
       "</div>"
      ],
      "text/plain": [
       "                   Open         High          Low        Close    Adj Close  \\\n",
       "Date                                                                          \n",
       "2019-08-26  2866.699951  2879.270020  2856.000000  2878.379883  2878.379883   \n",
       "2019-08-27  2893.139893  2898.790039  2860.590088  2869.159912  2869.159912   \n",
       "2019-08-28  2861.280029  2890.030029  2853.050049  2887.939941  2887.939941   \n",
       "2019-08-29  2910.370117  2930.500000  2905.669922  2924.580078  2924.580078   \n",
       "2019-08-30  2937.090088  2940.429932  2913.320068  2926.459961  2926.459961   \n",
       "\n",
       "                Volume  \n",
       "Date                    \n",
       "2019-08-26  2857600000  \n",
       "2019-08-27  3533630000  \n",
       "2019-08-28  3097420000  \n",
       "2019-08-29  3176190000  \n",
       "2019-08-30  3008450000  "
      ]
     },
     "execution_count": 6,
     "metadata": {},
     "output_type": "execute_result"
    }
   ],
   "source": [
    "raw_data.tail()"
   ]
  },
  {
   "cell_type": "markdown",
   "metadata": {},
   "source": [
    "Building the final Dataframe from the **closing prices** of **S&P 500** stocks."
   ]
  },
  {
   "cell_type": "code",
   "execution_count": 7,
   "metadata": {
    "ExecuteTime": {
     "end_time": "2020-10-04T12:08:00.292690Z",
     "start_time": "2020-10-04T12:07:59.819914Z"
    }
   },
   "outputs": [],
   "source": [
    "# Making a backup dataframe\n",
    "df_comp = raw_data.copy()\n",
    "\n",
    "# Adding columns of interest to the new dataframe\n",
    "df_comp['spx'] = df_comp.Close[:]\n",
    "\n",
    "# Final Dataframe\n",
    "data = df_comp[['spx']]\n",
    "\n",
    "# Making sure the data follows the periodicity of business days\n",
    "data = data.asfreq('b')"
   ]
  },
  {
   "cell_type": "markdown",
   "metadata": {},
   "source": [
    "# Preprocessing Data"
   ]
  },
  {
   "cell_type": "markdown",
   "metadata": {},
   "source": [
    "First few rows of the working dataframe."
   ]
  },
  {
   "cell_type": "code",
   "execution_count": 8,
   "metadata": {
    "ExecuteTime": {
     "end_time": "2020-10-04T12:08:00.308611Z",
     "start_time": "2020-10-04T12:08:00.295643Z"
    }
   },
   "outputs": [
    {
     "data": {
      "text/html": [
       "<div>\n",
       "<style scoped>\n",
       "    .dataframe tbody tr th:only-of-type {\n",
       "        vertical-align: middle;\n",
       "    }\n",
       "\n",
       "    .dataframe tbody tr th {\n",
       "        vertical-align: top;\n",
       "    }\n",
       "\n",
       "    .dataframe thead th {\n",
       "        text-align: right;\n",
       "    }\n",
       "</style>\n",
       "<table border=\"1\" class=\"dataframe\">\n",
       "  <thead>\n",
       "    <tr style=\"text-align: right;\">\n",
       "      <th></th>\n",
       "      <th>spx</th>\n",
       "    </tr>\n",
       "    <tr>\n",
       "      <th>Date</th>\n",
       "      <th></th>\n",
       "    </tr>\n",
       "  </thead>\n",
       "  <tbody>\n",
       "    <tr>\n",
       "      <th>1994-01-06</th>\n",
       "      <td>467.119995</td>\n",
       "    </tr>\n",
       "    <tr>\n",
       "      <th>1994-01-07</th>\n",
       "      <td>469.899994</td>\n",
       "    </tr>\n",
       "    <tr>\n",
       "      <th>1994-01-10</th>\n",
       "      <td>475.269989</td>\n",
       "    </tr>\n",
       "    <tr>\n",
       "      <th>1994-01-11</th>\n",
       "      <td>474.130005</td>\n",
       "    </tr>\n",
       "    <tr>\n",
       "      <th>1994-01-12</th>\n",
       "      <td>474.170013</td>\n",
       "    </tr>\n",
       "  </tbody>\n",
       "</table>\n",
       "</div>"
      ],
      "text/plain": [
       "                   spx\n",
       "Date                  \n",
       "1994-01-06  467.119995\n",
       "1994-01-07  469.899994\n",
       "1994-01-10  475.269989\n",
       "1994-01-11  474.130005\n",
       "1994-01-12  474.170013"
      ]
     },
     "execution_count": 8,
     "metadata": {},
     "output_type": "execute_result"
    }
   ],
   "source": [
    "data.head()"
   ]
  },
  {
   "cell_type": "markdown",
   "metadata": {},
   "source": [
    "## Handling Missing Values"
   ]
  },
  {
   "cell_type": "markdown",
   "metadata": {},
   "source": [
    "Statistical description of the dataset"
   ]
  },
  {
   "cell_type": "code",
   "execution_count": 9,
   "metadata": {
    "ExecuteTime": {
     "end_time": "2020-10-04T12:08:00.450231Z",
     "start_time": "2020-10-04T12:08:00.311600Z"
    }
   },
   "outputs": [
    {
     "data": {
      "text/html": [
       "<div>\n",
       "<style scoped>\n",
       "    .dataframe tbody tr th:only-of-type {\n",
       "        vertical-align: middle;\n",
       "    }\n",
       "\n",
       "    .dataframe tbody tr th {\n",
       "        vertical-align: top;\n",
       "    }\n",
       "\n",
       "    .dataframe thead th {\n",
       "        text-align: right;\n",
       "    }\n",
       "</style>\n",
       "<table border=\"1\" class=\"dataframe\">\n",
       "  <thead>\n",
       "    <tr style=\"text-align: right;\">\n",
       "      <th></th>\n",
       "      <th>spx</th>\n",
       "    </tr>\n",
       "  </thead>\n",
       "  <tbody>\n",
       "    <tr>\n",
       "      <th>count</th>\n",
       "      <td>6459.000000</td>\n",
       "    </tr>\n",
       "    <tr>\n",
       "      <th>mean</th>\n",
       "      <td>1380.614234</td>\n",
       "    </tr>\n",
       "    <tr>\n",
       "      <th>std</th>\n",
       "      <td>595.236124</td>\n",
       "    </tr>\n",
       "    <tr>\n",
       "      <th>min</th>\n",
       "      <td>438.920013</td>\n",
       "    </tr>\n",
       "    <tr>\n",
       "      <th>25%</th>\n",
       "      <td>1023.675018</td>\n",
       "    </tr>\n",
       "    <tr>\n",
       "      <th>50%</th>\n",
       "      <td>1263.819946</td>\n",
       "    </tr>\n",
       "    <tr>\n",
       "      <th>75%</th>\n",
       "      <td>1562.484985</td>\n",
       "    </tr>\n",
       "    <tr>\n",
       "      <th>max</th>\n",
       "      <td>3025.860107</td>\n",
       "    </tr>\n",
       "  </tbody>\n",
       "</table>\n",
       "</div>"
      ],
      "text/plain": [
       "               spx\n",
       "count  6459.000000\n",
       "mean   1380.614234\n",
       "std     595.236124\n",
       "min     438.920013\n",
       "25%    1023.675018\n",
       "50%    1263.819946\n",
       "75%    1562.484985\n",
       "max    3025.860107"
      ]
     },
     "execution_count": 9,
     "metadata": {},
     "output_type": "execute_result"
    }
   ],
   "source": [
    "data.describe()"
   ]
  },
  {
   "cell_type": "markdown",
   "metadata": {},
   "source": [
    "Number of missing values in each column."
   ]
  },
  {
   "cell_type": "code",
   "execution_count": 11,
   "metadata": {
    "ExecuteTime": {
     "end_time": "2020-10-04T12:08:00.744765Z",
     "start_time": "2020-10-04T12:08:00.700885Z"
    }
   },
   "outputs": [
    {
     "data": {
      "text/plain": [
       "spx    0\n",
       "dtype: int64"
      ]
     },
     "execution_count": 11,
     "metadata": {},
     "output_type": "execute_result"
    }
   ],
   "source": [
    "data.isnull().sum()"
   ]
  },
  {
   "cell_type": "markdown",
   "metadata": {},
   "source": [
    "Using **Front Fill (ffill)** method in pandas."
   ]
  },
  {
   "cell_type": "code",
   "execution_count": 12,
   "metadata": {
    "ExecuteTime": {
     "end_time": "2020-10-04T12:08:00.932265Z",
     "start_time": "2020-10-04T12:08:00.748756Z"
    }
   },
   "outputs": [
    {
     "data": {
      "text/plain": [
       "spx    0\n",
       "dtype: int64"
      ]
     },
     "execution_count": 12,
     "metadata": {},
     "output_type": "execute_result"
    }
   ],
   "source": [
    "data.spx = data.spx.fillna(method='ffill')\n",
    "\n",
    "data.isna().sum()"
   ]
  },
  {
   "cell_type": "markdown",
   "metadata": {},
   "source": [
    "New Statistical Description of the dataset."
   ]
  },
  {
   "cell_type": "code",
   "execution_count": 13,
   "metadata": {
    "ExecuteTime": {
     "end_time": "2020-10-04T12:08:01.042843Z",
     "start_time": "2020-10-04T12:08:00.935256Z"
    }
   },
   "outputs": [
    {
     "data": {
      "text/html": [
       "<div>\n",
       "<style scoped>\n",
       "    .dataframe tbody tr th:only-of-type {\n",
       "        vertical-align: middle;\n",
       "    }\n",
       "\n",
       "    .dataframe tbody tr th {\n",
       "        vertical-align: top;\n",
       "    }\n",
       "\n",
       "    .dataframe thead th {\n",
       "        text-align: right;\n",
       "    }\n",
       "</style>\n",
       "<table border=\"1\" class=\"dataframe\">\n",
       "  <thead>\n",
       "    <tr style=\"text-align: right;\">\n",
       "      <th></th>\n",
       "      <th>spx</th>\n",
       "    </tr>\n",
       "  </thead>\n",
       "  <tbody>\n",
       "    <tr>\n",
       "      <th>count</th>\n",
       "      <td>6692.000000</td>\n",
       "    </tr>\n",
       "    <tr>\n",
       "      <th>mean</th>\n",
       "      <td>1380.895551</td>\n",
       "    </tr>\n",
       "    <tr>\n",
       "      <th>std</th>\n",
       "      <td>594.732128</td>\n",
       "    </tr>\n",
       "    <tr>\n",
       "      <th>min</th>\n",
       "      <td>438.920013</td>\n",
       "    </tr>\n",
       "    <tr>\n",
       "      <th>25%</th>\n",
       "      <td>1024.077515</td>\n",
       "    </tr>\n",
       "    <tr>\n",
       "      <th>50%</th>\n",
       "      <td>1264.350037</td>\n",
       "    </tr>\n",
       "    <tr>\n",
       "      <th>75%</th>\n",
       "      <td>1562.477478</td>\n",
       "    </tr>\n",
       "    <tr>\n",
       "      <th>max</th>\n",
       "      <td>3025.860107</td>\n",
       "    </tr>\n",
       "  </tbody>\n",
       "</table>\n",
       "</div>"
      ],
      "text/plain": [
       "               spx\n",
       "count  6692.000000\n",
       "mean   1380.895551\n",
       "std     594.732128\n",
       "min     438.920013\n",
       "25%    1024.077515\n",
       "50%    1264.350037\n",
       "75%    1562.477478\n",
       "max    3025.860107"
      ]
     },
     "execution_count": 13,
     "metadata": {},
     "output_type": "execute_result"
    }
   ],
   "source": [
    "data.describe()"
   ]
  },
  {
   "cell_type": "markdown",
   "metadata": {},
   "source": [
    "## Calculating Price Returns"
   ]
  },
  {
   "cell_type": "markdown",
   "metadata": {},
   "source": [
    "For each market index the **Returns** at time **t** is defined as follows -\n",
    "\n",
    "$Returns(t) = \\frac{Price(t) - Price(t-1)}{Prices(t-1)} * 100$"
   ]
  },
  {
   "cell_type": "code",
   "execution_count": 14,
   "metadata": {
    "ExecuteTime": {
     "end_time": "2020-10-04T12:08:01.198390Z",
     "start_time": "2020-10-04T12:08:01.045799Z"
    }
   },
   "outputs": [],
   "source": [
    "data[\"spx_ret\"] = data.spx.pct_change(1).mul(100)"
   ]
  },
  {
   "cell_type": "markdown",
   "metadata": {},
   "source": [
    "New Dataframe after adding **Returns** for each market index."
   ]
  },
  {
   "cell_type": "code",
   "execution_count": 15,
   "metadata": {
    "ExecuteTime": {
     "end_time": "2020-10-04T12:08:01.262219Z",
     "start_time": "2020-10-04T12:08:01.201382Z"
    }
   },
   "outputs": [
    {
     "data": {
      "text/html": [
       "<div>\n",
       "<style scoped>\n",
       "    .dataframe tbody tr th:only-of-type {\n",
       "        vertical-align: middle;\n",
       "    }\n",
       "\n",
       "    .dataframe tbody tr th {\n",
       "        vertical-align: top;\n",
       "    }\n",
       "\n",
       "    .dataframe thead th {\n",
       "        text-align: right;\n",
       "    }\n",
       "</style>\n",
       "<table border=\"1\" class=\"dataframe\">\n",
       "  <thead>\n",
       "    <tr style=\"text-align: right;\">\n",
       "      <th></th>\n",
       "      <th>spx</th>\n",
       "      <th>spx_ret</th>\n",
       "    </tr>\n",
       "    <tr>\n",
       "      <th>Date</th>\n",
       "      <th></th>\n",
       "      <th></th>\n",
       "    </tr>\n",
       "  </thead>\n",
       "  <tbody>\n",
       "    <tr>\n",
       "      <th>1994-01-06</th>\n",
       "      <td>467.119995</td>\n",
       "      <td>NaN</td>\n",
       "    </tr>\n",
       "    <tr>\n",
       "      <th>1994-01-07</th>\n",
       "      <td>469.899994</td>\n",
       "      <td>0.595136</td>\n",
       "    </tr>\n",
       "    <tr>\n",
       "      <th>1994-01-10</th>\n",
       "      <td>475.269989</td>\n",
       "      <td>1.142795</td>\n",
       "    </tr>\n",
       "    <tr>\n",
       "      <th>1994-01-11</th>\n",
       "      <td>474.130005</td>\n",
       "      <td>-0.239860</td>\n",
       "    </tr>\n",
       "    <tr>\n",
       "      <th>1994-01-12</th>\n",
       "      <td>474.170013</td>\n",
       "      <td>0.008438</td>\n",
       "    </tr>\n",
       "  </tbody>\n",
       "</table>\n",
       "</div>"
      ],
      "text/plain": [
       "                   spx   spx_ret\n",
       "Date                            \n",
       "1994-01-06  467.119995       NaN\n",
       "1994-01-07  469.899994  0.595136\n",
       "1994-01-10  475.269989  1.142795\n",
       "1994-01-11  474.130005 -0.239860\n",
       "1994-01-12  474.170013  0.008438"
      ]
     },
     "execution_count": 15,
     "metadata": {},
     "output_type": "execute_result"
    }
   ],
   "source": [
    "data.head()"
   ]
  },
  {
   "cell_type": "markdown",
   "metadata": {},
   "source": [
    "## Volatility (Magnitude of Returns)"
   ]
  },
  {
   "cell_type": "markdown",
   "metadata": {},
   "source": [
    "Volatility in the returns of a market index are a measure of the stability in the index.\n",
    "\n",
    "$Volatility(t) = |Returns(t)|$"
   ]
  },
  {
   "cell_type": "code",
   "execution_count": 16,
   "metadata": {
    "ExecuteTime": {
     "end_time": "2020-10-04T12:08:01.373920Z",
     "start_time": "2020-10-04T12:08:01.265212Z"
    }
   },
   "outputs": [],
   "source": [
    "data[\"spx_vol\"] = data.spx_ret.abs()"
   ]
  },
  {
   "cell_type": "markdown",
   "metadata": {},
   "source": [
    "New Dataframe after adding **Volatility** of each market index."
   ]
  },
  {
   "cell_type": "code",
   "execution_count": 17,
   "metadata": {
    "ExecuteTime": {
     "end_time": "2020-10-04T12:08:01.482632Z",
     "start_time": "2020-10-04T12:08:01.376914Z"
    }
   },
   "outputs": [
    {
     "data": {
      "text/html": [
       "<div>\n",
       "<style scoped>\n",
       "    .dataframe tbody tr th:only-of-type {\n",
       "        vertical-align: middle;\n",
       "    }\n",
       "\n",
       "    .dataframe tbody tr th {\n",
       "        vertical-align: top;\n",
       "    }\n",
       "\n",
       "    .dataframe thead th {\n",
       "        text-align: right;\n",
       "    }\n",
       "</style>\n",
       "<table border=\"1\" class=\"dataframe\">\n",
       "  <thead>\n",
       "    <tr style=\"text-align: right;\">\n",
       "      <th></th>\n",
       "      <th>spx</th>\n",
       "      <th>spx_ret</th>\n",
       "      <th>spx_vol</th>\n",
       "    </tr>\n",
       "    <tr>\n",
       "      <th>Date</th>\n",
       "      <th></th>\n",
       "      <th></th>\n",
       "      <th></th>\n",
       "    </tr>\n",
       "  </thead>\n",
       "  <tbody>\n",
       "    <tr>\n",
       "      <th>1994-01-06</th>\n",
       "      <td>467.119995</td>\n",
       "      <td>NaN</td>\n",
       "      <td>NaN</td>\n",
       "    </tr>\n",
       "    <tr>\n",
       "      <th>1994-01-07</th>\n",
       "      <td>469.899994</td>\n",
       "      <td>0.595136</td>\n",
       "      <td>0.595136</td>\n",
       "    </tr>\n",
       "    <tr>\n",
       "      <th>1994-01-10</th>\n",
       "      <td>475.269989</td>\n",
       "      <td>1.142795</td>\n",
       "      <td>1.142795</td>\n",
       "    </tr>\n",
       "    <tr>\n",
       "      <th>1994-01-11</th>\n",
       "      <td>474.130005</td>\n",
       "      <td>-0.239860</td>\n",
       "      <td>0.239860</td>\n",
       "    </tr>\n",
       "    <tr>\n",
       "      <th>1994-01-12</th>\n",
       "      <td>474.170013</td>\n",
       "      <td>0.008438</td>\n",
       "      <td>0.008438</td>\n",
       "    </tr>\n",
       "  </tbody>\n",
       "</table>\n",
       "</div>"
      ],
      "text/plain": [
       "                   spx   spx_ret   spx_vol\n",
       "Date                                      \n",
       "1994-01-06  467.119995       NaN       NaN\n",
       "1994-01-07  469.899994  0.595136  0.595136\n",
       "1994-01-10  475.269989  1.142795  1.142795\n",
       "1994-01-11  474.130005 -0.239860  0.239860\n",
       "1994-01-12  474.170013  0.008438  0.008438"
      ]
     },
     "execution_count": 17,
     "metadata": {},
     "output_type": "execute_result"
    }
   ],
   "source": [
    "data.head()"
   ]
  },
  {
   "cell_type": "markdown",
   "metadata": {},
   "source": [
    "## Exporting the Dataframe"
   ]
  },
  {
   "cell_type": "code",
   "execution_count": 18,
   "metadata": {
    "ExecuteTime": {
     "end_time": "2020-10-04T12:08:01.862614Z",
     "start_time": "2020-10-04T12:08:01.485623Z"
    }
   },
   "outputs": [],
   "source": [
    "data.reset_index().to_csv(\"data.csv\", index = False)\n",
    "pd.read_csv(\"data.csv\").to_csv(\"data.csv\", index = False)"
   ]
  },
  {
   "cell_type": "markdown",
   "metadata": {},
   "source": [
    "## Importing the Dataframe"
   ]
  },
  {
   "cell_type": "code",
   "execution_count": 19,
   "metadata": {
    "ExecuteTime": {
     "end_time": "2020-10-04T12:08:01.909490Z",
     "start_time": "2020-10-04T12:08:01.864611Z"
    }
   },
   "outputs": [],
   "source": [
    "data = pd.read_csv(\"data.csv\")\n",
    "data.Date = pd.to_datetime(data.Date)\n",
    "data.set_index(\"Date\", inplace = True)"
   ]
  },
  {
   "cell_type": "markdown",
   "metadata": {},
   "source": [
    "# Preliminary Data Visulaizations"
   ]
  },
  {
   "cell_type": "code",
   "execution_count": 20,
   "metadata": {
    "ExecuteTime": {
     "end_time": "2020-10-04T12:08:01.988279Z",
     "start_time": "2020-10-04T12:08:01.912481Z"
    }
   },
   "outputs": [
    {
     "data": {
      "text/html": [
       "<div>\n",
       "<style scoped>\n",
       "    .dataframe tbody tr th:only-of-type {\n",
       "        vertical-align: middle;\n",
       "    }\n",
       "\n",
       "    .dataframe tbody tr th {\n",
       "        vertical-align: top;\n",
       "    }\n",
       "\n",
       "    .dataframe thead th {\n",
       "        text-align: right;\n",
       "    }\n",
       "</style>\n",
       "<table border=\"1\" class=\"dataframe\">\n",
       "  <thead>\n",
       "    <tr style=\"text-align: right;\">\n",
       "      <th></th>\n",
       "      <th>spx</th>\n",
       "      <th>spx_ret</th>\n",
       "      <th>spx_vol</th>\n",
       "    </tr>\n",
       "    <tr>\n",
       "      <th>Date</th>\n",
       "      <th></th>\n",
       "      <th></th>\n",
       "      <th></th>\n",
       "    </tr>\n",
       "  </thead>\n",
       "  <tbody>\n",
       "    <tr>\n",
       "      <th>1994-01-06</th>\n",
       "      <td>467.119995</td>\n",
       "      <td>NaN</td>\n",
       "      <td>NaN</td>\n",
       "    </tr>\n",
       "    <tr>\n",
       "      <th>1994-01-07</th>\n",
       "      <td>469.899994</td>\n",
       "      <td>0.595136</td>\n",
       "      <td>0.595136</td>\n",
       "    </tr>\n",
       "    <tr>\n",
       "      <th>1994-01-10</th>\n",
       "      <td>475.269989</td>\n",
       "      <td>1.142795</td>\n",
       "      <td>1.142795</td>\n",
       "    </tr>\n",
       "    <tr>\n",
       "      <th>1994-01-11</th>\n",
       "      <td>474.130005</td>\n",
       "      <td>-0.239860</td>\n",
       "      <td>0.239860</td>\n",
       "    </tr>\n",
       "    <tr>\n",
       "      <th>1994-01-12</th>\n",
       "      <td>474.170013</td>\n",
       "      <td>0.008438</td>\n",
       "      <td>0.008438</td>\n",
       "    </tr>\n",
       "  </tbody>\n",
       "</table>\n",
       "</div>"
      ],
      "text/plain": [
       "                   spx   spx_ret   spx_vol\n",
       "Date                                      \n",
       "1994-01-06  467.119995       NaN       NaN\n",
       "1994-01-07  469.899994  0.595136  0.595136\n",
       "1994-01-10  475.269989  1.142795  1.142795\n",
       "1994-01-11  474.130005 -0.239860  0.239860\n",
       "1994-01-12  474.170013  0.008438  0.008438"
      ]
     },
     "execution_count": 20,
     "metadata": {},
     "output_type": "execute_result"
    }
   ],
   "source": [
    "data.head()"
   ]
  },
  {
   "cell_type": "markdown",
   "metadata": {},
   "source": [
    "The following line plots shows the trend of all columns of the dataframe above."
   ]
  },
  {
   "cell_type": "code",
   "execution_count": 23,
   "metadata": {
    "ExecuteTime": {
     "end_time": "2020-10-04T12:08:36.600940Z",
     "start_time": "2020-10-04T12:08:35.545762Z"
    }
   },
   "outputs": [
    {
     "data": {
      "image/png": "[encoded data removed]",
      "text/plain": [
       "<Figure size 1296x360 with 3 Axes>"
      ]
     },
     "metadata": {},
     "output_type": "display_data"
    }
   ],
   "source": [
    "plt.rcParams[\"figure.figsize\"] = (18, 5)\n",
    "\n",
    "fig, ax = plt.subplots(1, 3)\n",
    "\n",
    "ax[0].plot(data.spx, color = \"blue\", label = \"SPX\")\n",
    "ax[0].set_title(\"SPX Prices\", size = 24)\n",
    "ax[0].legend()\n",
    "\n",
    "ax[1].plot(data.spx_ret, color = \"blue\", label = \"SPX Returns\")\n",
    "ax[1].set_title(\"SPX Returns\", size = 24)\n",
    "ax[1].legend()\n",
    "\n",
    "ax[2].plot(data.spx_vol, color = \"blue\", label = \"SPX Volatility\")\n",
    "ax[2].set_title(\"SPX Volatility\", size = 24)\n",
    "ax[2].legend()\n",
    "\n",
    "plt.show()"
   ]
  }
 ],
 "metadata": {
  "kernelspec": {
   "display_name": "Python 3",
   "language": "python",
   "name": "python3"
  },
  "language_info": {
   "codemirror_mode": {
    "name": "ipython",
    "version": 3
   },
   "file_extension": ".py",
   "mimetype": "text/x-python",
   "name": "python",
   "nbconvert_exporter": "python",
   "pygments_lexer": "ipython3",
   "version": "3.7.6"
  },
  "latex_envs": {
   "LaTeX_envs_menu_present": true,
   "autoclose": false,
   "autocomplete": true,
   "bibliofile": "biblio.bib",
   "cite_by": "apalike",
   "current_citInitial": 1,
   "eqLabelWithNumbers": true,
   "eqNumInitial": 1,
   "hotkeys": {
    "equation": "Ctrl-E",
    "itemize": "Ctrl-I"
   },
   "labels_anchors": false,
   "latex_user_defs": false,
   "report_style_numbering": false,
   "user_envs_cfg": false
  },
  "toc": {
   "base_numbering": 1,
   "nav_menu": {},
   "number_sections": true,
   "sideBar": true,
   "skip_h1_title": false,
   "title_cell": "Table of Contents",
   "title_sidebar": "Contents",
   "toc_cell": true,
   "toc_position": {},
   "toc_section_display": true,
   "toc_window_display": true
  }
 },
 "nbformat": 4,
 "nbformat_minor": 4
}
